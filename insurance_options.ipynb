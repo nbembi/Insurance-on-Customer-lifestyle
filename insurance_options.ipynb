{
 "cells": [
  {
   "cell_type": "code",
   "execution_count": 1,
   "metadata": {},
   "outputs": [],
   "source": [
    "import pandas as pd\n",
    "import numpy as np\n",
    "import researchpy as rp\n",
    "from sklearn.preprocessing import StandardScaler\n",
    "from sklearn.ensemble import RandomForestClassifier\n",
    "from sklearn.metrics import confusion_matrix,classification_report,accuracy_score"
   ]
  },
  {
   "cell_type": "code",
   "execution_count": 2,
   "metadata": {},
   "outputs": [],
   "source": [
    "data=pd.read_csv('./NIIT-insurance_case_study.csv')"
   ]
  },
  {
   "cell_type": "code",
   "execution_count": 3,
   "metadata": {},
   "outputs": [
    {
     "data": {
      "text/html": [
       "<div>\n",
       "<style scoped>\n",
       "    .dataframe tbody tr th:only-of-type {\n",
       "        vertical-align: middle;\n",
       "    }\n",
       "\n",
       "    .dataframe tbody tr th {\n",
       "        vertical-align: top;\n",
       "    }\n",
       "\n",
       "    .dataframe thead th {\n",
       "        text-align: right;\n",
       "    }\n",
       "</style>\n",
       "<table border=\"1\" class=\"dataframe\">\n",
       "  <thead>\n",
       "    <tr style=\"text-align: right;\">\n",
       "      <th></th>\n",
       "      <th>No of Vehicle</th>\n",
       "      <th>Vacations/Year</th>\n",
       "      <th>Vacation Type</th>\n",
       "      <th>Brand concious</th>\n",
       "      <th>Hobbies</th>\n",
       "      <th>Existing Insurance Coverage</th>\n",
       "      <th>Medical History</th>\n",
       "      <th>Living Region</th>\n",
       "      <th>bmi</th>\n",
       "      <th>Age</th>\n",
       "      <th>Gender</th>\n",
       "      <th>Salary</th>\n",
       "      <th>Insurance Type</th>\n",
       "    </tr>\n",
       "  </thead>\n",
       "  <tbody>\n",
       "    <tr>\n",
       "      <th>0</th>\n",
       "      <td>1</td>\n",
       "      <td>2</td>\n",
       "      <td>domestic</td>\n",
       "      <td>yes</td>\n",
       "      <td>tennis</td>\n",
       "      <td>PMCAH</td>\n",
       "      <td>no</td>\n",
       "      <td>north</td>\n",
       "      <td>33.770</td>\n",
       "      <td>22</td>\n",
       "      <td>male</td>\n",
       "      <td>30000</td>\n",
       "      <td>type1</td>\n",
       "    </tr>\n",
       "    <tr>\n",
       "      <th>1</th>\n",
       "      <td>2</td>\n",
       "      <td>2</td>\n",
       "      <td>domestic</td>\n",
       "      <td>no</td>\n",
       "      <td>badminton</td>\n",
       "      <td>ECAH</td>\n",
       "      <td>yes</td>\n",
       "      <td>west</td>\n",
       "      <td>33.000</td>\n",
       "      <td>25</td>\n",
       "      <td>female</td>\n",
       "      <td>35000</td>\n",
       "      <td>type2</td>\n",
       "    </tr>\n",
       "    <tr>\n",
       "      <th>2</th>\n",
       "      <td>0</td>\n",
       "      <td>3</td>\n",
       "      <td>domestic</td>\n",
       "      <td>yes</td>\n",
       "      <td>tennis</td>\n",
       "      <td>CACAH</td>\n",
       "      <td>no</td>\n",
       "      <td>west</td>\n",
       "      <td>22.705</td>\n",
       "      <td>28</td>\n",
       "      <td>male</td>\n",
       "      <td>32000</td>\n",
       "      <td>type1</td>\n",
       "    </tr>\n",
       "    <tr>\n",
       "      <th>3</th>\n",
       "      <td>1</td>\n",
       "      <td>1</td>\n",
       "      <td>international</td>\n",
       "      <td>yes</td>\n",
       "      <td>tennis</td>\n",
       "      <td>ECAH</td>\n",
       "      <td>yes</td>\n",
       "      <td>east</td>\n",
       "      <td>28.880</td>\n",
       "      <td>27</td>\n",
       "      <td>female</td>\n",
       "      <td>45000</td>\n",
       "      <td>type2</td>\n",
       "    </tr>\n",
       "    <tr>\n",
       "      <th>4</th>\n",
       "      <td>4</td>\n",
       "      <td>4</td>\n",
       "      <td>international</td>\n",
       "      <td>yes</td>\n",
       "      <td>golf</td>\n",
       "      <td>BCACAH</td>\n",
       "      <td>no</td>\n",
       "      <td>south</td>\n",
       "      <td>25.740</td>\n",
       "      <td>30</td>\n",
       "      <td>male</td>\n",
       "      <td>70000</td>\n",
       "      <td>type3</td>\n",
       "    </tr>\n",
       "  </tbody>\n",
       "</table>\n",
       "</div>"
      ],
      "text/plain": [
       "   No of Vehicle  Vacations/Year  Vacation Type Brand concious    Hobbies  \\\n",
       "0              1               2       domestic            yes     tennis   \n",
       "1              2               2       domestic             no  badminton   \n",
       "2              0               3       domestic            yes     tennis   \n",
       "3              1               1  international            yes     tennis   \n",
       "4              4               4  international            yes       golf   \n",
       "\n",
       "  Existing Insurance Coverage Medical History Living Region     bmi  Age  \\\n",
       "0                       PMCAH              no         north  33.770   22   \n",
       "1                        ECAH             yes          west  33.000   25   \n",
       "2                       CACAH              no          west  22.705   28   \n",
       "3                        ECAH             yes          east  28.880   27   \n",
       "4                      BCACAH              no         south  25.740   30   \n",
       "\n",
       "   Gender  Salary Insurance Type  \n",
       "0    male   30000          type1  \n",
       "1  female   35000          type2  \n",
       "2    male   32000          type1  \n",
       "3  female   45000          type2  \n",
       "4    male   70000          type3  "
      ]
     },
     "execution_count": 3,
     "metadata": {},
     "output_type": "execute_result"
    }
   ],
   "source": [
    "data.head()"
   ]
  },
  {
   "cell_type": "code",
   "execution_count": 4,
   "metadata": {},
   "outputs": [
    {
     "data": {
      "text/plain": [
       "(30, 13)"
      ]
     },
     "execution_count": 4,
     "metadata": {},
     "output_type": "execute_result"
    }
   ],
   "source": [
    "#The data consists of 30 rows and 13 columns\n",
    "data.shape"
   ]
  },
  {
   "cell_type": "code",
   "execution_count": 5,
   "metadata": {},
   "outputs": [
    {
     "data": {
      "text/html": [
       "<div>\n",
       "<style scoped>\n",
       "    .dataframe tbody tr th:only-of-type {\n",
       "        vertical-align: middle;\n",
       "    }\n",
       "\n",
       "    .dataframe tbody tr th {\n",
       "        vertical-align: top;\n",
       "    }\n",
       "\n",
       "    .dataframe thead th {\n",
       "        text-align: right;\n",
       "    }\n",
       "</style>\n",
       "<table border=\"1\" class=\"dataframe\">\n",
       "  <thead>\n",
       "    <tr style=\"text-align: right;\">\n",
       "      <th></th>\n",
       "      <th>No of Vehicle</th>\n",
       "      <th>Vacations/Year</th>\n",
       "      <th>bmi</th>\n",
       "      <th>Age</th>\n",
       "      <th>Salary</th>\n",
       "    </tr>\n",
       "  </thead>\n",
       "  <tbody>\n",
       "    <tr>\n",
       "      <th>count</th>\n",
       "      <td>30.000000</td>\n",
       "      <td>30.0000</td>\n",
       "      <td>30.000000</td>\n",
       "      <td>30.000000</td>\n",
       "      <td>30.000000</td>\n",
       "    </tr>\n",
       "    <tr>\n",
       "      <th>mean</th>\n",
       "      <td>1.766667</td>\n",
       "      <td>2.7000</td>\n",
       "      <td>30.664833</td>\n",
       "      <td>29.733333</td>\n",
       "      <td>43433.333333</td>\n",
       "    </tr>\n",
       "    <tr>\n",
       "      <th>std</th>\n",
       "      <td>1.165106</td>\n",
       "      <td>1.4657</td>\n",
       "      <td>5.773851</td>\n",
       "      <td>4.653018</td>\n",
       "      <td>15902.034859</td>\n",
       "    </tr>\n",
       "    <tr>\n",
       "      <th>min</th>\n",
       "      <td>0.000000</td>\n",
       "      <td>1.0000</td>\n",
       "      <td>17.385000</td>\n",
       "      <td>19.000000</td>\n",
       "      <td>20000.000000</td>\n",
       "    </tr>\n",
       "    <tr>\n",
       "      <th>25%</th>\n",
       "      <td>1.000000</td>\n",
       "      <td>2.0000</td>\n",
       "      <td>26.237500</td>\n",
       "      <td>27.000000</td>\n",
       "      <td>32000.000000</td>\n",
       "    </tr>\n",
       "    <tr>\n",
       "      <th>50%</th>\n",
       "      <td>1.500000</td>\n",
       "      <td>2.0000</td>\n",
       "      <td>31.350000</td>\n",
       "      <td>30.000000</td>\n",
       "      <td>37000.000000</td>\n",
       "    </tr>\n",
       "    <tr>\n",
       "      <th>75%</th>\n",
       "      <td>2.750000</td>\n",
       "      <td>3.0000</td>\n",
       "      <td>34.325000</td>\n",
       "      <td>33.750000</td>\n",
       "      <td>53750.000000</td>\n",
       "    </tr>\n",
       "    <tr>\n",
       "      <th>max</th>\n",
       "      <td>4.000000</td>\n",
       "      <td>6.0000</td>\n",
       "      <td>42.130000</td>\n",
       "      <td>38.000000</td>\n",
       "      <td>80000.000000</td>\n",
       "    </tr>\n",
       "  </tbody>\n",
       "</table>\n",
       "</div>"
      ],
      "text/plain": [
       "       No of Vehicle  Vacations/Year        bmi        Age        Salary\n",
       "count      30.000000         30.0000  30.000000  30.000000     30.000000\n",
       "mean        1.766667          2.7000  30.664833  29.733333  43433.333333\n",
       "std         1.165106          1.4657   5.773851   4.653018  15902.034859\n",
       "min         0.000000          1.0000  17.385000  19.000000  20000.000000\n",
       "25%         1.000000          2.0000  26.237500  27.000000  32000.000000\n",
       "50%         1.500000          2.0000  31.350000  30.000000  37000.000000\n",
       "75%         2.750000          3.0000  34.325000  33.750000  53750.000000\n",
       "max         4.000000          6.0000  42.130000  38.000000  80000.000000"
      ]
     },
     "execution_count": 5,
     "metadata": {},
     "output_type": "execute_result"
    }
   ],
   "source": [
    "data.describe()"
   ]
  },
  {
   "cell_type": "code",
   "execution_count": 6,
   "metadata": {},
   "outputs": [
    {
     "name": "stdout",
     "output_type": "stream",
     "text": [
      "<class 'pandas.core.frame.DataFrame'>\n",
      "RangeIndex: 30 entries, 0 to 29\n",
      "Data columns (total 13 columns):\n",
      "No of Vehicle                  30 non-null int64\n",
      "Vacations/Year                 30 non-null int64\n",
      "Vacation Type                  30 non-null object\n",
      "Brand concious                 30 non-null object\n",
      "Hobbies                        30 non-null object\n",
      "Existing Insurance Coverage    30 non-null object\n",
      "Medical History                30 non-null object\n",
      "Living Region                  30 non-null object\n",
      "bmi                            30 non-null float64\n",
      "Age                            30 non-null int64\n",
      "Gender                         30 non-null object\n",
      "Salary                         30 non-null int64\n",
      "Insurance Type                 30 non-null object\n",
      "dtypes: float64(1), int64(4), object(8)\n",
      "memory usage: 3.1+ KB\n"
     ]
    }
   ],
   "source": [
    "data.info()"
   ]
  },
  {
   "cell_type": "code",
   "execution_count": 7,
   "metadata": {},
   "outputs": [
    {
     "data": {
      "text/plain": [
       "No of Vehicle                  0\n",
       "Vacations/Year                 0\n",
       "Vacation Type                  0\n",
       "Brand concious                 0\n",
       "Hobbies                        0\n",
       "Existing Insurance Coverage    0\n",
       "Medical History                0\n",
       "Living Region                  0\n",
       "bmi                            0\n",
       "Age                            0\n",
       "Gender                         0\n",
       "Salary                         0\n",
       "Insurance Type                 0\n",
       "dtype: int64"
      ]
     },
     "execution_count": 7,
     "metadata": {},
     "output_type": "execute_result"
    }
   ],
   "source": [
    "data.isnull().sum()"
   ]
  },
  {
   "cell_type": "code",
   "execution_count": 8,
   "metadata": {},
   "outputs": [
    {
     "data": {
      "text/html": [
       "<div>\n",
       "<style scoped>\n",
       "    .dataframe tbody tr th:only-of-type {\n",
       "        vertical-align: middle;\n",
       "    }\n",
       "\n",
       "    .dataframe tbody tr th {\n",
       "        vertical-align: top;\n",
       "    }\n",
       "\n",
       "    .dataframe thead th {\n",
       "        text-align: right;\n",
       "    }\n",
       "</style>\n",
       "<table border=\"1\" class=\"dataframe\">\n",
       "  <thead>\n",
       "    <tr style=\"text-align: right;\">\n",
       "      <th></th>\n",
       "      <th>Variable</th>\n",
       "      <th>Outcome</th>\n",
       "      <th>Count</th>\n",
       "      <th>Percent</th>\n",
       "    </tr>\n",
       "  </thead>\n",
       "  <tbody>\n",
       "    <tr>\n",
       "      <th>0</th>\n",
       "      <td>Vacation Type</td>\n",
       "      <td>domestic</td>\n",
       "      <td>19</td>\n",
       "      <td>63.33</td>\n",
       "    </tr>\n",
       "    <tr>\n",
       "      <th>1</th>\n",
       "      <td></td>\n",
       "      <td>international</td>\n",
       "      <td>11</td>\n",
       "      <td>36.67</td>\n",
       "    </tr>\n",
       "    <tr>\n",
       "      <th>2</th>\n",
       "      <td>Brand concious</td>\n",
       "      <td>yes</td>\n",
       "      <td>19</td>\n",
       "      <td>63.33</td>\n",
       "    </tr>\n",
       "    <tr>\n",
       "      <th>3</th>\n",
       "      <td></td>\n",
       "      <td>no</td>\n",
       "      <td>11</td>\n",
       "      <td>36.67</td>\n",
       "    </tr>\n",
       "    <tr>\n",
       "      <th>4</th>\n",
       "      <td>Hobbies</td>\n",
       "      <td>tennis</td>\n",
       "      <td>9</td>\n",
       "      <td>30.00</td>\n",
       "    </tr>\n",
       "    <tr>\n",
       "      <th>5</th>\n",
       "      <td></td>\n",
       "      <td>gym</td>\n",
       "      <td>9</td>\n",
       "      <td>30.00</td>\n",
       "    </tr>\n",
       "    <tr>\n",
       "      <th>6</th>\n",
       "      <td></td>\n",
       "      <td>golf</td>\n",
       "      <td>7</td>\n",
       "      <td>23.33</td>\n",
       "    </tr>\n",
       "    <tr>\n",
       "      <th>7</th>\n",
       "      <td></td>\n",
       "      <td>badminton</td>\n",
       "      <td>5</td>\n",
       "      <td>16.67</td>\n",
       "    </tr>\n",
       "    <tr>\n",
       "      <th>8</th>\n",
       "      <td>Existing Insurance Coverage</td>\n",
       "      <td>PMCAH</td>\n",
       "      <td>9</td>\n",
       "      <td>30.00</td>\n",
       "    </tr>\n",
       "    <tr>\n",
       "      <th>9</th>\n",
       "      <td></td>\n",
       "      <td>CACAH</td>\n",
       "      <td>8</td>\n",
       "      <td>26.67</td>\n",
       "    </tr>\n",
       "    <tr>\n",
       "      <th>10</th>\n",
       "      <td></td>\n",
       "      <td>BCACAH</td>\n",
       "      <td>7</td>\n",
       "      <td>23.33</td>\n",
       "    </tr>\n",
       "    <tr>\n",
       "      <th>11</th>\n",
       "      <td></td>\n",
       "      <td>ECAH</td>\n",
       "      <td>6</td>\n",
       "      <td>20.00</td>\n",
       "    </tr>\n",
       "    <tr>\n",
       "      <th>12</th>\n",
       "      <td>Medical History</td>\n",
       "      <td>no</td>\n",
       "      <td>15</td>\n",
       "      <td>50.00</td>\n",
       "    </tr>\n",
       "    <tr>\n",
       "      <th>13</th>\n",
       "      <td></td>\n",
       "      <td>yes</td>\n",
       "      <td>15</td>\n",
       "      <td>50.00</td>\n",
       "    </tr>\n",
       "    <tr>\n",
       "      <th>14</th>\n",
       "      <td>Living Region</td>\n",
       "      <td>west</td>\n",
       "      <td>9</td>\n",
       "      <td>30.00</td>\n",
       "    </tr>\n",
       "    <tr>\n",
       "      <th>15</th>\n",
       "      <td></td>\n",
       "      <td>north</td>\n",
       "      <td>8</td>\n",
       "      <td>26.67</td>\n",
       "    </tr>\n",
       "    <tr>\n",
       "      <th>16</th>\n",
       "      <td></td>\n",
       "      <td>east</td>\n",
       "      <td>7</td>\n",
       "      <td>23.33</td>\n",
       "    </tr>\n",
       "    <tr>\n",
       "      <th>17</th>\n",
       "      <td></td>\n",
       "      <td>south</td>\n",
       "      <td>6</td>\n",
       "      <td>20.00</td>\n",
       "    </tr>\n",
       "    <tr>\n",
       "      <th>18</th>\n",
       "      <td>Insurance Type</td>\n",
       "      <td>type2</td>\n",
       "      <td>13</td>\n",
       "      <td>43.33</td>\n",
       "    </tr>\n",
       "    <tr>\n",
       "      <th>19</th>\n",
       "      <td></td>\n",
       "      <td>type3</td>\n",
       "      <td>9</td>\n",
       "      <td>30.00</td>\n",
       "    </tr>\n",
       "    <tr>\n",
       "      <th>20</th>\n",
       "      <td></td>\n",
       "      <td>type1</td>\n",
       "      <td>8</td>\n",
       "      <td>26.67</td>\n",
       "    </tr>\n",
       "  </tbody>\n",
       "</table>\n",
       "</div>"
      ],
      "text/plain": [
       "                       Variable        Outcome  Count  Percent\n",
       "0                 Vacation Type       domestic     19    63.33\n",
       "1                                international     11    36.67\n",
       "2                Brand concious            yes     19    63.33\n",
       "3                                           no     11    36.67\n",
       "4                       Hobbies         tennis      9    30.00\n",
       "5                                          gym      9    30.00\n",
       "6                                         golf      7    23.33\n",
       "7                                    badminton      5    16.67\n",
       "8   Existing Insurance Coverage          PMCAH      9    30.00\n",
       "9                                        CACAH      8    26.67\n",
       "10                                      BCACAH      7    23.33\n",
       "11                                        ECAH      6    20.00\n",
       "12              Medical History             no     15    50.00\n",
       "13                                         yes     15    50.00\n",
       "14                Living Region           west      9    30.00\n",
       "15                                       north      8    26.67\n",
       "16                                        east      7    23.33\n",
       "17                                       south      6    20.00\n",
       "18               Insurance Type          type2     13    43.33\n",
       "19                                       type3      9    30.00\n",
       "20                                       type1      8    26.67"
      ]
     },
     "execution_count": 8,
     "metadata": {},
     "output_type": "execute_result"
    }
   ],
   "source": [
    "rp.summary_cat(data[['Vacation Type','Brand concious','Hobbies','Existing Insurance Coverage', 'Medical History',\n",
    "       'Living Region', 'Insurance Type']])"
   ]
  },
  {
   "cell_type": "code",
   "execution_count": 9,
   "metadata": {},
   "outputs": [
    {
     "name": "stdout",
     "output_type": "stream",
     "text": [
      "\n",
      "\n"
     ]
    },
    {
     "data": {
      "text/html": [
       "<div>\n",
       "<style scoped>\n",
       "    .dataframe tbody tr th:only-of-type {\n",
       "        vertical-align: middle;\n",
       "    }\n",
       "\n",
       "    .dataframe tbody tr th {\n",
       "        vertical-align: top;\n",
       "    }\n",
       "\n",
       "    .dataframe thead th {\n",
       "        text-align: right;\n",
       "    }\n",
       "</style>\n",
       "<table border=\"1\" class=\"dataframe\">\n",
       "  <thead>\n",
       "    <tr style=\"text-align: right;\">\n",
       "      <th></th>\n",
       "      <th>Variable</th>\n",
       "      <th>N</th>\n",
       "      <th>Mean</th>\n",
       "      <th>SD</th>\n",
       "      <th>SE</th>\n",
       "      <th>95% Conf.</th>\n",
       "      <th>Interval</th>\n",
       "    </tr>\n",
       "  </thead>\n",
       "  <tbody>\n",
       "    <tr>\n",
       "      <th>0</th>\n",
       "      <td>No of Vehicle</td>\n",
       "      <td>30.0</td>\n",
       "      <td>1.766667</td>\n",
       "      <td>1.165106</td>\n",
       "      <td>0.212718</td>\n",
       "      <td>1.331609</td>\n",
       "      <td>2.201724</td>\n",
       "    </tr>\n",
       "    <tr>\n",
       "      <th>1</th>\n",
       "      <td>Vacations/Year</td>\n",
       "      <td>30.0</td>\n",
       "      <td>2.700000</td>\n",
       "      <td>1.465700</td>\n",
       "      <td>0.267599</td>\n",
       "      <td>2.152699</td>\n",
       "      <td>3.247301</td>\n",
       "    </tr>\n",
       "    <tr>\n",
       "      <th>2</th>\n",
       "      <td>bmi</td>\n",
       "      <td>30.0</td>\n",
       "      <td>30.664833</td>\n",
       "      <td>5.773851</td>\n",
       "      <td>1.054156</td>\n",
       "      <td>28.508842</td>\n",
       "      <td>32.820825</td>\n",
       "    </tr>\n",
       "    <tr>\n",
       "      <th>3</th>\n",
       "      <td>Age</td>\n",
       "      <td>30.0</td>\n",
       "      <td>29.733333</td>\n",
       "      <td>4.653018</td>\n",
       "      <td>0.849521</td>\n",
       "      <td>27.995868</td>\n",
       "      <td>31.470799</td>\n",
       "    </tr>\n",
       "    <tr>\n",
       "      <th>4</th>\n",
       "      <td>Salary</td>\n",
       "      <td>30.0</td>\n",
       "      <td>43433.333333</td>\n",
       "      <td>15902.034859</td>\n",
       "      <td>2903.301067</td>\n",
       "      <td>37495.415930</td>\n",
       "      <td>49371.250736</td>\n",
       "    </tr>\n",
       "  </tbody>\n",
       "</table>\n",
       "</div>"
      ],
      "text/plain": [
       "         Variable     N          Mean            SD           SE  \\\n",
       "0   No of Vehicle  30.0      1.766667      1.165106     0.212718   \n",
       "1  Vacations/Year  30.0      2.700000      1.465700     0.267599   \n",
       "2             bmi  30.0     30.664833      5.773851     1.054156   \n",
       "3             Age  30.0     29.733333      4.653018     0.849521   \n",
       "4          Salary  30.0  43433.333333  15902.034859  2903.301067   \n",
       "\n",
       "      95% Conf.      Interval  \n",
       "0      1.331609      2.201724  \n",
       "1      2.152699      3.247301  \n",
       "2     28.508842     32.820825  \n",
       "3     27.995868     31.470799  \n",
       "4  37495.415930  49371.250736  "
      ]
     },
     "execution_count": 9,
     "metadata": {},
     "output_type": "execute_result"
    }
   ],
   "source": [
    "rp.summary_cont(data[['No of Vehicle','Vacations/Year','bmi','Age','Salary']])"
   ]
  },
  {
   "cell_type": "code",
   "execution_count": 10,
   "metadata": {},
   "outputs": [],
   "source": [
    "#Factorizing the dependent variable\n",
    "ins_factors=pd.factorize(data['Insurance Type'])"
   ]
  },
  {
   "cell_type": "code",
   "execution_count": 11,
   "metadata": {},
   "outputs": [],
   "source": [
    "data['Insurance Type']=ins_factors[0]"
   ]
  },
  {
   "cell_type": "code",
   "execution_count": 12,
   "metadata": {},
   "outputs": [],
   "source": [
    "ins_definations=ins_factors[1]"
   ]
  },
  {
   "cell_type": "code",
   "execution_count": 13,
   "metadata": {},
   "outputs": [],
   "source": [
    "#creating one hot encoders\n",
    "data=pd.get_dummies(data,drop_first=True)"
   ]
  },
  {
   "cell_type": "code",
   "execution_count": 14,
   "metadata": {},
   "outputs": [
    {
     "data": {
      "text/html": [
       "<div>\n",
       "<style scoped>\n",
       "    .dataframe tbody tr th:only-of-type {\n",
       "        vertical-align: middle;\n",
       "    }\n",
       "\n",
       "    .dataframe tbody tr th {\n",
       "        vertical-align: top;\n",
       "    }\n",
       "\n",
       "    .dataframe thead th {\n",
       "        text-align: right;\n",
       "    }\n",
       "</style>\n",
       "<table border=\"1\" class=\"dataframe\">\n",
       "  <thead>\n",
       "    <tr style=\"text-align: right;\">\n",
       "      <th></th>\n",
       "      <th>No of Vehicle</th>\n",
       "      <th>Vacations/Year</th>\n",
       "      <th>bmi</th>\n",
       "      <th>Age</th>\n",
       "      <th>Salary</th>\n",
       "      <th>Insurance Type</th>\n",
       "      <th>Vacation Type_international</th>\n",
       "      <th>Brand concious_yes</th>\n",
       "      <th>Hobbies_golf</th>\n",
       "      <th>Hobbies_gym</th>\n",
       "      <th>Hobbies_tennis</th>\n",
       "      <th>Existing Insurance Coverage_CACAH</th>\n",
       "      <th>Existing Insurance Coverage_ECAH</th>\n",
       "      <th>Existing Insurance Coverage_PMCAH</th>\n",
       "      <th>Medical History_yes</th>\n",
       "      <th>Living Region_north</th>\n",
       "      <th>Living Region_south</th>\n",
       "      <th>Living Region_west</th>\n",
       "      <th>Gender_male</th>\n",
       "    </tr>\n",
       "  </thead>\n",
       "  <tbody>\n",
       "    <tr>\n",
       "      <th>0</th>\n",
       "      <td>1</td>\n",
       "      <td>2</td>\n",
       "      <td>33.770</td>\n",
       "      <td>22</td>\n",
       "      <td>30000</td>\n",
       "      <td>0</td>\n",
       "      <td>0</td>\n",
       "      <td>1</td>\n",
       "      <td>0</td>\n",
       "      <td>0</td>\n",
       "      <td>1</td>\n",
       "      <td>0</td>\n",
       "      <td>0</td>\n",
       "      <td>1</td>\n",
       "      <td>0</td>\n",
       "      <td>1</td>\n",
       "      <td>0</td>\n",
       "      <td>0</td>\n",
       "      <td>1</td>\n",
       "    </tr>\n",
       "    <tr>\n",
       "      <th>1</th>\n",
       "      <td>2</td>\n",
       "      <td>2</td>\n",
       "      <td>33.000</td>\n",
       "      <td>25</td>\n",
       "      <td>35000</td>\n",
       "      <td>1</td>\n",
       "      <td>0</td>\n",
       "      <td>0</td>\n",
       "      <td>0</td>\n",
       "      <td>0</td>\n",
       "      <td>0</td>\n",
       "      <td>0</td>\n",
       "      <td>1</td>\n",
       "      <td>0</td>\n",
       "      <td>1</td>\n",
       "      <td>0</td>\n",
       "      <td>0</td>\n",
       "      <td>1</td>\n",
       "      <td>0</td>\n",
       "    </tr>\n",
       "    <tr>\n",
       "      <th>2</th>\n",
       "      <td>0</td>\n",
       "      <td>3</td>\n",
       "      <td>22.705</td>\n",
       "      <td>28</td>\n",
       "      <td>32000</td>\n",
       "      <td>0</td>\n",
       "      <td>0</td>\n",
       "      <td>1</td>\n",
       "      <td>0</td>\n",
       "      <td>0</td>\n",
       "      <td>1</td>\n",
       "      <td>1</td>\n",
       "      <td>0</td>\n",
       "      <td>0</td>\n",
       "      <td>0</td>\n",
       "      <td>0</td>\n",
       "      <td>0</td>\n",
       "      <td>1</td>\n",
       "      <td>1</td>\n",
       "    </tr>\n",
       "    <tr>\n",
       "      <th>3</th>\n",
       "      <td>1</td>\n",
       "      <td>1</td>\n",
       "      <td>28.880</td>\n",
       "      <td>27</td>\n",
       "      <td>45000</td>\n",
       "      <td>1</td>\n",
       "      <td>1</td>\n",
       "      <td>1</td>\n",
       "      <td>0</td>\n",
       "      <td>0</td>\n",
       "      <td>1</td>\n",
       "      <td>0</td>\n",
       "      <td>1</td>\n",
       "      <td>0</td>\n",
       "      <td>1</td>\n",
       "      <td>0</td>\n",
       "      <td>0</td>\n",
       "      <td>0</td>\n",
       "      <td>0</td>\n",
       "    </tr>\n",
       "    <tr>\n",
       "      <th>4</th>\n",
       "      <td>4</td>\n",
       "      <td>4</td>\n",
       "      <td>25.740</td>\n",
       "      <td>30</td>\n",
       "      <td>70000</td>\n",
       "      <td>2</td>\n",
       "      <td>1</td>\n",
       "      <td>1</td>\n",
       "      <td>1</td>\n",
       "      <td>0</td>\n",
       "      <td>0</td>\n",
       "      <td>0</td>\n",
       "      <td>0</td>\n",
       "      <td>0</td>\n",
       "      <td>0</td>\n",
       "      <td>0</td>\n",
       "      <td>1</td>\n",
       "      <td>0</td>\n",
       "      <td>1</td>\n",
       "    </tr>\n",
       "  </tbody>\n",
       "</table>\n",
       "</div>"
      ],
      "text/plain": [
       "   No of Vehicle  Vacations/Year     bmi  Age  Salary  Insurance Type  \\\n",
       "0              1               2  33.770   22   30000               0   \n",
       "1              2               2  33.000   25   35000               1   \n",
       "2              0               3  22.705   28   32000               0   \n",
       "3              1               1  28.880   27   45000               1   \n",
       "4              4               4  25.740   30   70000               2   \n",
       "\n",
       "   Vacation Type_international  Brand concious_yes  Hobbies_golf  Hobbies_gym  \\\n",
       "0                            0                   1             0            0   \n",
       "1                            0                   0             0            0   \n",
       "2                            0                   1             0            0   \n",
       "3                            1                   1             0            0   \n",
       "4                            1                   1             1            0   \n",
       "\n",
       "   Hobbies_tennis  Existing Insurance Coverage_CACAH  \\\n",
       "0               1                                  0   \n",
       "1               0                                  0   \n",
       "2               1                                  1   \n",
       "3               1                                  0   \n",
       "4               0                                  0   \n",
       "\n",
       "   Existing Insurance Coverage_ECAH  Existing Insurance Coverage_PMCAH  \\\n",
       "0                                 0                                  1   \n",
       "1                                 1                                  0   \n",
       "2                                 0                                  0   \n",
       "3                                 1                                  0   \n",
       "4                                 0                                  0   \n",
       "\n",
       "   Medical History_yes  Living Region_north  Living Region_south  \\\n",
       "0                    0                    1                    0   \n",
       "1                    1                    0                    0   \n",
       "2                    0                    0                    0   \n",
       "3                    1                    0                    0   \n",
       "4                    0                    0                    1   \n",
       "\n",
       "   Living Region_west  Gender_male  \n",
       "0                   0            1  \n",
       "1                   1            0  \n",
       "2                   1            1  \n",
       "3                   0            0  \n",
       "4                   0            1  "
      ]
     },
     "execution_count": 14,
     "metadata": {},
     "output_type": "execute_result"
    }
   ],
   "source": [
    "data.head()"
   ]
  },
  {
   "cell_type": "code",
   "execution_count": 15,
   "metadata": {},
   "outputs": [
    {
     "data": {
      "text/plain": [
       "(No of Vehicle                          int64\n",
       " Vacations/Year                         int64\n",
       " bmi                                  float64\n",
       " Age                                    int64\n",
       " Salary                                 int64\n",
       " Insurance Type                         int64\n",
       " Vacation Type_international            uint8\n",
       " Brand concious_yes                     uint8\n",
       " Hobbies_golf                           uint8\n",
       " Hobbies_gym                            uint8\n",
       " Hobbies_tennis                         uint8\n",
       " Existing Insurance Coverage_CACAH      uint8\n",
       " Existing Insurance Coverage_ECAH       uint8\n",
       " Existing Insurance Coverage_PMCAH      uint8\n",
       " Medical History_yes                    uint8\n",
       " Living Region_north                    uint8\n",
       " Living Region_south                    uint8\n",
       " Living Region_west                     uint8\n",
       " Gender_male                            uint8\n",
       " dtype: object, (30, 19))"
      ]
     },
     "execution_count": 15,
     "metadata": {},
     "output_type": "execute_result"
    }
   ],
   "source": [
    "data.dtypes,data.shape"
   ]
  },
  {
   "cell_type": "code",
   "execution_count": 16,
   "metadata": {},
   "outputs": [],
   "source": [
    "#dividing the data into train test split\n",
    "from sklearn.model_selection import train_test_split"
   ]
  },
  {
   "cell_type": "code",
   "execution_count": 17,
   "metadata": {},
   "outputs": [],
   "source": [
    "train,test=train_test_split(data,test_size=0.2,random_state=10)"
   ]
  },
  {
   "cell_type": "code",
   "execution_count": 18,
   "metadata": {},
   "outputs": [
    {
     "data": {
      "text/plain": [
       "((24, 19), (6, 19))"
      ]
     },
     "execution_count": 18,
     "metadata": {},
     "output_type": "execute_result"
    }
   ],
   "source": [
    "train.shape,test.shape"
   ]
  },
  {
   "cell_type": "code",
   "execution_count": 19,
   "metadata": {},
   "outputs": [],
   "source": [
    "X_train=train.drop('Insurance Type',1)\n",
    "y_train=train['Insurance Type']"
   ]
  },
  {
   "cell_type": "code",
   "execution_count": 20,
   "metadata": {},
   "outputs": [],
   "source": [
    "X_test=test.drop('Insurance Type',1)\n",
    "y_test=test['Insurance Type']"
   ]
  },
  {
   "cell_type": "code",
   "execution_count": 21,
   "metadata": {},
   "outputs": [],
   "source": [
    "scaler=StandardScaler()"
   ]
  },
  {
   "cell_type": "code",
   "execution_count": 22,
   "metadata": {},
   "outputs": [
    {
     "name": "stderr",
     "output_type": "stream",
     "text": [
      "C:\\Users\\Dell\\Anaconda3\\envs\\tensorflow\\lib\\site-packages\\sklearn\\preprocessing\\data.py:625: DataConversionWarning: Data with input dtype uint8, int64, float64 were all converted to float64 by StandardScaler.\n",
      "  return self.partial_fit(X, y)\n",
      "C:\\Users\\Dell\\Anaconda3\\envs\\tensorflow\\lib\\site-packages\\sklearn\\base.py:462: DataConversionWarning: Data with input dtype uint8, int64, float64 were all converted to float64 by StandardScaler.\n",
      "  return self.fit(X, **fit_params).transform(X)\n",
      "C:\\Users\\Dell\\Anaconda3\\envs\\tensorflow\\lib\\site-packages\\ipykernel_launcher.py:3: DataConversionWarning: Data with input dtype uint8, int64, float64 were all converted to float64 by StandardScaler.\n",
      "  This is separate from the ipykernel package so we can avoid doing imports until\n"
     ]
    }
   ],
   "source": [
    "#scaling the independent varaibles so that the model could learn better\n",
    "X_train=scaler.fit_transform(X_train)\n",
    "X_test=scaler.transform(X_test)"
   ]
  },
  {
   "cell_type": "code",
   "execution_count": 23,
   "metadata": {},
   "outputs": [],
   "source": [
    "# Making RF classifier object using entropy and random state as 10 in RF classifier\n",
    "classifier=RandomForestClassifier(criterion='entropy',random_state=10)"
   ]
  },
  {
   "cell_type": "code",
   "execution_count": 24,
   "metadata": {},
   "outputs": [
    {
     "name": "stderr",
     "output_type": "stream",
     "text": [
      "C:\\Users\\Dell\\Anaconda3\\envs\\tensorflow\\lib\\site-packages\\sklearn\\ensemble\\forest.py:246: FutureWarning: The default value of n_estimators will change from 10 in version 0.20 to 100 in 0.22.\n",
      "  \"10 in version 0.20 to 100 in 0.22.\", FutureWarning)\n"
     ]
    },
    {
     "data": {
      "text/plain": [
       "RandomForestClassifier(bootstrap=True, class_weight=None, criterion='entropy',\n",
       "            max_depth=None, max_features='auto', max_leaf_nodes=None,\n",
       "            min_impurity_decrease=0.0, min_impurity_split=None,\n",
       "            min_samples_leaf=1, min_samples_split=2,\n",
       "            min_weight_fraction_leaf=0.0, n_estimators=10, n_jobs=None,\n",
       "            oob_score=False, random_state=10, verbose=0, warm_start=False)"
      ]
     },
     "execution_count": 24,
     "metadata": {},
     "output_type": "execute_result"
    }
   ],
   "source": [
    "classifier.fit(X_train,y_train)"
   ]
  },
  {
   "cell_type": "code",
   "execution_count": 25,
   "metadata": {},
   "outputs": [],
   "source": [
    "#predicting the test data over out trained model\n",
    "y_pred=classifier.predict(X_test)"
   ]
  },
  {
   "cell_type": "code",
   "execution_count": 26,
   "metadata": {},
   "outputs": [
    {
     "data": {
      "text/plain": [
       "{0: 'type1', 1: 'type2', 2: 'type3'}"
      ]
     },
     "execution_count": 26,
     "metadata": {},
     "output_type": "execute_result"
    }
   ],
   "source": [
    "#reverse factoring our dependent variable so that the resulst are readable.\n",
    "ins_reversefactor=dict(zip(range(3),ins_definations))\n",
    "ins_reversefactor"
   ]
  },
  {
   "cell_type": "code",
   "execution_count": 27,
   "metadata": {},
   "outputs": [],
   "source": [
    "y_test = np.vectorize(ins_reversefactor.get)(y_test)\n",
    "y_pred = np.vectorize(ins_reversefactor.get)(y_pred)"
   ]
  },
  {
   "cell_type": "code",
   "execution_count": 28,
   "metadata": {},
   "outputs": [
    {
     "name": "stdout",
     "output_type": "stream",
     "text": [
      "This is y_test ['type2' 'type1' 'type2' 'type1' 'type2' 'type3']\n",
      "This is y_pred ['type2' 'type2' 'type2' 'type1' 'type2' 'type3']\n"
     ]
    }
   ],
   "source": [
    "print(\"This is y_test\",y_test)\n",
    "print(\"This is y_pred\",y_pred)"
   ]
  },
  {
   "cell_type": "code",
   "execution_count": 29,
   "metadata": {},
   "outputs": [
    {
     "name": "stdout",
     "output_type": "stream",
     "text": [
      "Predicted Species  type1  type2  type3\n",
      "Actual Species                        \n",
      "type1                  1      1      0\n",
      "type2                  0      3      0\n",
      "type3                  0      0      1\n"
     ]
    }
   ],
   "source": [
    "#Making a pandas cross table for visualizing the results\n",
    "print(pd.crosstab(y_test, y_pred, rownames=['Actual Species'], colnames=['Predicted Species']))"
   ]
  },
  {
   "cell_type": "code",
   "execution_count": 30,
   "metadata": {},
   "outputs": [],
   "source": [
    "prediction=pd.DataFrame(columns=['Actual','Predicted'])"
   ]
  },
  {
   "cell_type": "code",
   "execution_count": 31,
   "metadata": {},
   "outputs": [
    {
     "data": {
      "text/html": [
       "<div>\n",
       "<style scoped>\n",
       "    .dataframe tbody tr th:only-of-type {\n",
       "        vertical-align: middle;\n",
       "    }\n",
       "\n",
       "    .dataframe tbody tr th {\n",
       "        vertical-align: top;\n",
       "    }\n",
       "\n",
       "    .dataframe thead th {\n",
       "        text-align: right;\n",
       "    }\n",
       "</style>\n",
       "<table border=\"1\" class=\"dataframe\">\n",
       "  <thead>\n",
       "    <tr style=\"text-align: right;\">\n",
       "      <th></th>\n",
       "      <th>Actual</th>\n",
       "      <th>Predicted</th>\n",
       "    </tr>\n",
       "  </thead>\n",
       "  <tbody>\n",
       "    <tr>\n",
       "      <th>0</th>\n",
       "      <td>type2</td>\n",
       "      <td>type2</td>\n",
       "    </tr>\n",
       "    <tr>\n",
       "      <th>1</th>\n",
       "      <td>type1</td>\n",
       "      <td>type2</td>\n",
       "    </tr>\n",
       "    <tr>\n",
       "      <th>2</th>\n",
       "      <td>type2</td>\n",
       "      <td>type2</td>\n",
       "    </tr>\n",
       "    <tr>\n",
       "      <th>3</th>\n",
       "      <td>type1</td>\n",
       "      <td>type1</td>\n",
       "    </tr>\n",
       "    <tr>\n",
       "      <th>4</th>\n",
       "      <td>type2</td>\n",
       "      <td>type2</td>\n",
       "    </tr>\n",
       "    <tr>\n",
       "      <th>5</th>\n",
       "      <td>type3</td>\n",
       "      <td>type3</td>\n",
       "    </tr>\n",
       "  </tbody>\n",
       "</table>\n",
       "</div>"
      ],
      "text/plain": [
       "  Actual Predicted\n",
       "0  type2     type2\n",
       "1  type1     type2\n",
       "2  type2     type2\n",
       "3  type1     type1\n",
       "4  type2     type2\n",
       "5  type3     type3"
      ]
     },
     "execution_count": 31,
     "metadata": {},
     "output_type": "execute_result"
    }
   ],
   "source": [
    "prediction['Actual']=y_test\n",
    "prediction['Predicted']=y_pred\n",
    "prediction"
   ]
  },
  {
   "cell_type": "code",
   "execution_count": 32,
   "metadata": {},
   "outputs": [],
   "source": [
    "#checking the accuracy of model"
   ]
  },
  {
   "cell_type": "code",
   "execution_count": 33,
   "metadata": {},
   "outputs": [
    {
     "name": "stdout",
     "output_type": "stream",
     "text": [
      "[[1 1 0]\n",
      " [0 3 0]\n",
      " [0 0 1]]\n"
     ]
    }
   ],
   "source": [
    "print(confusion_matrix(y_test,y_pred))"
   ]
  },
  {
   "cell_type": "code",
   "execution_count": 34,
   "metadata": {},
   "outputs": [
    {
     "name": "stdout",
     "output_type": "stream",
     "text": [
      "83.33333333333334\n"
     ]
    }
   ],
   "source": [
    "print(accuracy_score(y_test,y_pred)*100)"
   ]
  },
  {
   "cell_type": "code",
   "execution_count": 35,
   "metadata": {},
   "outputs": [
    {
     "name": "stdout",
     "output_type": "stream",
     "text": [
      "              precision    recall  f1-score   support\n",
      "\n",
      "       type1       1.00      0.50      0.67         2\n",
      "       type2       0.75      1.00      0.86         3\n",
      "       type3       1.00      1.00      1.00         1\n",
      "\n",
      "   micro avg       0.83      0.83      0.83         6\n",
      "   macro avg       0.92      0.83      0.84         6\n",
      "weighted avg       0.88      0.83      0.82         6\n",
      "\n"
     ]
    }
   ],
   "source": [
    "print(classification_report(y_test, y_pred,labels=None, sample_weight=None))"
   ]
  },
  {
   "cell_type": "code",
   "execution_count": null,
   "metadata": {},
   "outputs": [],
   "source": []
  },
  {
   "cell_type": "code",
   "execution_count": null,
   "metadata": {},
   "outputs": [],
   "source": []
  }
 ],
 "metadata": {
  "kernelspec": {
   "display_name": "Python 3",
   "language": "python",
   "name": "python3"
  },
  "language_info": {
   "codemirror_mode": {
    "name": "ipython",
    "version": 3
   },
   "file_extension": ".py",
   "mimetype": "text/x-python",
   "name": "python",
   "nbconvert_exporter": "python",
   "pygments_lexer": "ipython3",
   "version": "3.6.6"
  }
 },
 "nbformat": 4,
 "nbformat_minor": 2
}
